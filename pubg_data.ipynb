{
 "cells": [
  {
   "cell_type": "code",
   "execution_count": 5,
   "metadata": {},
   "outputs": [
    {
     "ename": "ImportError",
     "evalue": "attempted relative import with no known parent package",
     "output_type": "error",
     "traceback": [
      "\u001b[1;31m---------------------------------------------------------------------------\u001b[0m",
      "\u001b[1;31mImportError\u001b[0m                               Traceback (most recent call last)",
      "Cell \u001b[1;32mIn [5], line 4\u001b[0m\n\u001b[0;32m      2\u001b[0m \u001b[39mimport\u001b[39;00m \u001b[39mrequests\u001b[39;00m\n\u001b[0;32m      3\u001b[0m \u001b[39mimport\u001b[39;00m \u001b[39mpandas\u001b[39;00m \u001b[39mas\u001b[39;00m \u001b[39mpd\u001b[39;00m\n\u001b[1;32m----> 4\u001b[0m \u001b[39mfrom\u001b[39;00m \u001b[39m.\u001b[39;00m\u001b[39m.\u001b[39;00m\u001b[39mmatch\u001b[39;00m \u001b[39mimport\u001b[39;00m Match_List\n",
      "\u001b[1;31mImportError\u001b[0m: attempted relative import with no known parent package"
     ]
    }
   ],
   "source": [
    "import json\n",
    "import requests\n",
    "import pandas as pd\n",
    "from ..match import Match_List\n"
   ]
  },
  {
   "cell_type": "code",
   "execution_count": null,
   "metadata": {},
   "outputs": [],
   "source": [
    "pd.set_option(\"display.max_columns\", 10)\n",
    "pd.set_option(\"display.max_rows\", 200)"
   ]
  },
  {
   "cell_type": "code",
   "execution_count": null,
   "metadata": {},
   "outputs": [],
   "source": [
    "df1 = pd.read_excel(\"..\\datafiles\\games.xlsx\")\n",
    "df2 = pd.read_excel(\"..\\datafiles\\games1.xlsx\")\n",
    "df = pd.concat(\n",
    "    [df1, df2], ignore_index= True\n",
    ")"
   ]
  },
  {
   "cell_type": "code",
   "execution_count": null,
   "metadata": {},
   "outputs": [],
   "source": [
    "df = df.drop_duplicates()\n",
    "df = df[(df[\"gameMode\"] == \"squad\") & (df[\"map_name\"]==\"Baltic_Main\")]"
   ]
  },
  {
   "cell_type": "code",
   "execution_count": null,
   "metadata": {},
   "outputs": [],
   "source": [
    "df = df.drop(\n",
    "    labels = [\"Unnamed: 0\"], \n",
    "    axis = 1\n",
    ")\n",
    "df = df.reset_index(\n",
    "    drop=True\n",
    ")"
   ]
  },
  {
   "cell_type": "code",
   "execution_count": null,
   "metadata": {},
   "outputs": [],
   "source": [
    "import random\n",
    "u = random.choice(\n",
    "    df[\"assetUrl\"]\n",
    ")\n",
    "match_details = json.loads((requests.get(u)).text)"
   ]
  },
  {
   "cell_type": "code",
   "execution_count": null,
   "metadata": {},
   "outputs": [],
   "source": [
    "with open(\"match.json\", \"w\") as fi:\n",
    "    json.dump(match_details, fi)"
   ]
  },
  {
   "cell_type": "code",
   "execution_count": null,
   "metadata": {},
   "outputs": [],
   "source": [
    "len(match_details)"
   ]
  },
  {
   "cell_type": "code",
   "execution_count": null,
   "metadata": {},
   "outputs": [],
   "source": [
    "it = []\n",
    "for i in match_details:\n",
    "    it.append(i[\"_T\"])\n",
    "\n",
    "it = list(set(it))"
   ]
  },
  {
   "cell_type": "code",
   "execution_count": null,
   "metadata": {},
   "outputs": [],
   "source": [
    "len(it)"
   ]
  },
  {
   "cell_type": "code",
   "execution_count": null,
   "metadata": {},
   "outputs": [],
   "source": [
    "a = []\n",
    "b = []\n",
    "for i in match_details:\n",
    "    a.append(i[\"_T\"])\n",
    "    b.append(i[\"_D\"])\n",
    "df_types = pd.DataFrame(\n",
    "    data = {\n",
    "        \"Type\" : a, \n",
    "        \"Time\" : b,\n",
    "    }\n",
    ")\n"
   ]
  },
  {
   "cell_type": "code",
   "execution_count": null,
   "metadata": {},
   "outputs": [],
   "source": [
    "df_types = df_types.sort_values(\n",
    "    by = [\"Time\"]\n",
    ")"
   ]
  },
  {
   "cell_type": "code",
   "execution_count": null,
   "metadata": {},
   "outputs": [],
   "source": [
    "df_types"
   ]
  },
  {
   "cell_type": "code",
   "execution_count": null,
   "metadata": {},
   "outputs": [],
   "source": [
    "# class Match:\n",
    "#     def __init__(self, match_details, match_id):\n",
    "#         # Instance input variables\n",
    "#         self.match_details = match_details\n",
    "#         self.match_id = match_id\n",
    "#         #Instance internal variables\n",
    "#         self.dataframes = {}\n",
    "\n",
    "#         #Instance run functions\n",
    "#         self.sort_details()\n",
    "\n",
    "#     def create_df(self, data, typename):\n",
    "#         # Create Empty dataframe and fill in the self.dataframes\n",
    "#         df = pd.DataFrame(\n",
    "#             columns = list(data.keys())\n",
    "#         )\n",
    "#         self.dataframes[typename] = df\n",
    "    \n",
    "#     def add_to_df(self, data, typename):\n",
    "#         df = self.dataframes[typename]\n",
    "#         col = df.columns\n",
    "#         dt = []\n",
    "#         for i in col:\n",
    "#             dt.append(data[i])\n",
    "#         df.loc[len(df)] = dt\n",
    "\n",
    "#     def sort_details(self):\n",
    "#         for i in self.match_details:\n",
    "#             if i[\"_T\"] in self.dataframes.keys():\n",
    "#                 self.add_to_df(i, i[\"_T\"])\n",
    "#             else:\n",
    "#                 self.create_df(i, i[\"_T\"])\n",
    "#                 self.add_to_df(i, i[\"_T\"])\n",
    "\n",
    "from match import Match\n"
   ]
  },
  {
   "cell_type": "code",
   "execution_count": null,
   "metadata": {},
   "outputs": [],
   "source": [
    "match_details"
   ]
  },
  {
   "cell_type": "code",
   "execution_count": null,
   "metadata": {},
   "outputs": [],
   "source": [
    "m = Match(match_details, \"testmatch\")"
   ]
  },
  {
   "cell_type": "code",
   "execution_count": null,
   "metadata": {},
   "outputs": [],
   "source": [
    "m.dataframes[\"LogItemPickup\"].sort_values(\n",
    "    by = [\"_D\"]\n",
    ").iloc[0, 0]"
   ]
  },
  {
   "cell_type": "code",
   "execution_count": null,
   "metadata": {},
   "outputs": [],
   "source": [
    "m.dataframes.keys() "
   ]
  },
  {
   "cell_type": "code",
   "execution_count": null,
   "metadata": {},
   "outputs": [],
   "source": [
    "df"
   ]
  },
  {
   "cell_type": "code",
   "execution_count": null,
   "metadata": {},
   "outputs": [],
   "source": [
    "match_details"
   ]
  },
  {
   "cell_type": "code",
   "execution_count": null,
   "metadata": {},
   "outputs": [],
   "source": [
    "import sys\n",
    "\n",
    "sys.getsizeof(m.dataframes)"
   ]
  },
  {
   "cell_type": "code",
   "execution_count": null,
   "metadata": {},
   "outputs": [],
   "source": [
    "help(sys.getsizeof)"
   ]
  },
  {
   "cell_type": "code",
   "execution_count": null,
   "metadata": {},
   "outputs": [],
   "source": [
    "import pickle\n",
    "\n",
    "with open(\"match.pkl\", \"wb\") as mt:\n",
    "    pickle.dump(m, mt, pickle.HIGHEST_PROTOCOL)"
   ]
  },
  {
   "cell_type": "code",
   "execution_count": null,
   "metadata": {},
   "outputs": [],
   "source": [
    "for _, i in df.head().iterrows():\n",
    "    print(i[\"assetUrl\"])\n"
   ]
  },
  {
   "cell_type": "code",
   "execution_count": null,
   "metadata": {},
   "outputs": [],
   "source": [
    "resp = requests.get(df.loc[0, \"assetUrl\"])"
   ]
  },
  {
   "cell_type": "code",
   "execution_count": null,
   "metadata": {},
   "outputs": [],
   "source": [
    "resp.ok"
   ]
  },
  {
   "cell_type": "code",
   "execution_count": null,
   "metadata": {},
   "outputs": [],
   "source": []
  }
 ],
 "metadata": {
  "kernelspec": {
   "display_name": "Python 3",
   "language": "python",
   "name": "python3"
  },
  "language_info": {
   "codemirror_mode": {
    "name": "ipython",
    "version": 3
   },
   "file_extension": ".py",
   "mimetype": "text/x-python",
   "name": "python",
   "nbconvert_exporter": "python",
   "pygments_lexer": "ipython3",
   "version": "3.10.5"
  },
  "orig_nbformat": 4,
  "vscode": {
   "interpreter": {
    "hash": "4ee441ee8ec832752cdde1c616ebbb04902f410d43df126ddaa7c2c78434d230"
   }
  }
 },
 "nbformat": 4,
 "nbformat_minor": 2
}
