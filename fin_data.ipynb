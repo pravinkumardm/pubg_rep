{
 "cells": [
  {
   "cell_type": "code",
   "execution_count": 1,
   "metadata": {},
   "outputs": [],
   "source": [
    "import pandas as pd\n",
    "import matplotlib.pyplot as plt"
   ]
  },
  {
   "cell_type": "code",
   "execution_count": 2,
   "metadata": {},
   "outputs": [],
   "source": [
    "from pathlib import Path\n",
    "folder = Path(r\"C:\\Users\\pravi\\Downloads\")\n",
    "file = folder / \"ICCI_Year2022.xls\"\n",
    "df = pd.read_excel(file)"
   ]
  },
  {
   "cell_type": "code",
   "execution_count": 38,
   "metadata": {},
   "outputs": [
    {
     "data": {
      "text/html": [
       "<div>\n",
       "<style scoped>\n",
       "    .dataframe tbody tr th:only-of-type {\n",
       "        vertical-align: middle;\n",
       "    }\n",
       "\n",
       "    .dataframe tbody tr th {\n",
       "        vertical-align: top;\n",
       "    }\n",
       "\n",
       "    .dataframe thead th {\n",
       "        text-align: right;\n",
       "    }\n",
       "</style>\n",
       "<table border=\"1\" class=\"dataframe\">\n",
       "  <thead>\n",
       "    <tr style=\"text-align: right;\">\n",
       "      <th></th>\n",
       "      <th>Legends Used in Account Statement</th>\n",
       "      <th>Value</th>\n",
       "    </tr>\n",
       "  </thead>\n",
       "  <tbody>\n",
       "    <tr>\n",
       "      <th>2</th>\n",
       "      <td>BBPS</td>\n",
       "      <td>Bharat Bill Payment Service</td>\n",
       "    </tr>\n",
       "    <tr>\n",
       "      <th>21</th>\n",
       "      <td>BCTT</td>\n",
       "      <td>Banking Cash Transaction Tax</td>\n",
       "    </tr>\n",
       "    <tr>\n",
       "      <th>18</th>\n",
       "      <td>BIL</td>\n",
       "      <td>Internet Bill payment or funds transfer to Th...</td>\n",
       "    </tr>\n",
       "    <tr>\n",
       "      <th>1</th>\n",
       "      <td>BPAY</td>\n",
       "      <td>Bill payment</td>\n",
       "    </tr>\n",
       "    <tr>\n",
       "      <th>12</th>\n",
       "      <td>CCWD</td>\n",
       "      <td>Cardless Cash Withdrawal</td>\n",
       "    </tr>\n",
       "    <tr>\n",
       "      <th>7</th>\n",
       "      <td>DTAX</td>\n",
       "      <td>Direct Tax</td>\n",
       "    </tr>\n",
       "    <tr>\n",
       "      <th>17</th>\n",
       "      <td>EBA</td>\n",
       "      <td>Transaction on ICICI Direct</td>\n",
       "    </tr>\n",
       "    <tr>\n",
       "      <th>8</th>\n",
       "      <td>IDTX</td>\n",
       "      <td>Indirect Tax</td>\n",
       "    </tr>\n",
       "    <tr>\n",
       "      <th>14</th>\n",
       "      <td>IMPS</td>\n",
       "      <td>Immediate Payment Service</td>\n",
       "    </tr>\n",
       "    <tr>\n",
       "      <th>16</th>\n",
       "      <td>INF</td>\n",
       "      <td>Internet fund transfer in linked accounts</td>\n",
       "    </tr>\n",
       "    <tr>\n",
       "      <th>0</th>\n",
       "      <td>INFT</td>\n",
       "      <td>Internal Fund Transfer (Within ICICI Bank)</td>\n",
       "    </tr>\n",
       "    <tr>\n",
       "      <th>29</th>\n",
       "      <td>IPS</td>\n",
       "      <td>Debit card transaction</td>\n",
       "    </tr>\n",
       "    <tr>\n",
       "      <th>23</th>\n",
       "      <td>LCCBRN CMS</td>\n",
       "      <td>Local cheque collection</td>\n",
       "    </tr>\n",
       "    <tr>\n",
       "      <th>11</th>\n",
       "      <td>LNPY</td>\n",
       "      <td>Linked loan payment</td>\n",
       "    </tr>\n",
       "    <tr>\n",
       "      <th>27</th>\n",
       "      <td>MAT</td>\n",
       "      <td>Cash withdrawal at other bank ATM</td>\n",
       "    </tr>\n",
       "    <tr>\n",
       "      <th>25</th>\n",
       "      <td>MMT</td>\n",
       "      <td>Mobile Money Transfer (Insta FT IMPS)</td>\n",
       "    </tr>\n",
       "    <tr>\n",
       "      <th>24</th>\n",
       "      <td>N chg</td>\n",
       "      <td>NEFT Charges</td>\n",
       "    </tr>\n",
       "    <tr>\n",
       "      <th>3</th>\n",
       "      <td>NEFT</td>\n",
       "      <td>National Electronics Funds Transfer System (O...</td>\n",
       "    </tr>\n",
       "    <tr>\n",
       "      <th>28</th>\n",
       "      <td>NFS</td>\n",
       "      <td>Cash withdrawal at other bank ATM</td>\n",
       "    </tr>\n",
       "    <tr>\n",
       "      <th>5</th>\n",
       "      <td>ONL</td>\n",
       "      <td>Online Shopping transaction (Payment done on ...</td>\n",
       "    </tr>\n",
       "    <tr>\n",
       "      <th>10</th>\n",
       "      <td>PAC</td>\n",
       "      <td>Personal Accident cover</td>\n",
       "    </tr>\n",
       "    <tr>\n",
       "      <th>9</th>\n",
       "      <td>PAVC</td>\n",
       "      <td>Pay any Visa credit card</td>\n",
       "    </tr>\n",
       "    <tr>\n",
       "      <th>13</th>\n",
       "      <td>PAYC</td>\n",
       "      <td>Pay to Contact</td>\n",
       "    </tr>\n",
       "    <tr>\n",
       "      <th>4</th>\n",
       "      <td>RCHG</td>\n",
       "      <td>Recharge</td>\n",
       "    </tr>\n",
       "    <tr>\n",
       "      <th>6</th>\n",
       "      <td>SMO</td>\n",
       "      <td>Smart Money order</td>\n",
       "    </tr>\n",
       "    <tr>\n",
       "      <th>26</th>\n",
       "      <td>T Chg</td>\n",
       "      <td>Travel Charges</td>\n",
       "    </tr>\n",
       "    <tr>\n",
       "      <th>20</th>\n",
       "      <td>TOP</td>\n",
       "      <td>Mobile recharge</td>\n",
       "    </tr>\n",
       "    <tr>\n",
       "      <th>22</th>\n",
       "      <td>UCCBRN CMS</td>\n",
       "      <td>Upcountry cheque collection</td>\n",
       "    </tr>\n",
       "    <tr>\n",
       "      <th>15</th>\n",
       "      <td>VAT</td>\n",
       "      <td>Cash withdrawal at other bank ATM</td>\n",
       "    </tr>\n",
       "    <tr>\n",
       "      <th>19</th>\n",
       "      <td>VPS</td>\n",
       "      <td>Debit card transaction</td>\n",
       "    </tr>\n",
       "  </tbody>\n",
       "</table>\n",
       "</div>"
      ],
      "text/plain": [
       "   Legends Used in Account Statement  \\\n",
       "2                              BBPS    \n",
       "21                             BCTT    \n",
       "18                              BIL    \n",
       "1                              BPAY    \n",
       "12                             CCWD    \n",
       "7                              DTAX    \n",
       "17                              EBA    \n",
       "8                              IDTX    \n",
       "14                             IMPS    \n",
       "16                              INF    \n",
       "0                              INFT    \n",
       "29                              IPS    \n",
       "23                       LCCBRN CMS    \n",
       "11                             LNPY    \n",
       "27                               MAT   \n",
       "25                              MMT    \n",
       "24                            N chg    \n",
       "3                              NEFT    \n",
       "28                               NFS   \n",
       "5                               ONL    \n",
       "10                              PAC    \n",
       "9                              PAVC    \n",
       "13                             PAYC    \n",
       "4                              RCHG    \n",
       "6                               SMO    \n",
       "26                            T Chg    \n",
       "20                              TOP    \n",
       "22                       UCCBRN CMS    \n",
       "15                               VAT   \n",
       "19                               VPS   \n",
       "\n",
       "                                                Value  \n",
       "2                         Bharat Bill Payment Service  \n",
       "21                       Banking Cash Transaction Tax  \n",
       "18   Internet Bill payment or funds transfer to Th...  \n",
       "1                                        Bill payment  \n",
       "12                           Cardless Cash Withdrawal  \n",
       "7                                          Direct Tax  \n",
       "17                        Transaction on ICICI Direct  \n",
       "8                                        Indirect Tax  \n",
       "14                          Immediate Payment Service  \n",
       "16          Internet fund transfer in linked accounts  \n",
       "0          Internal Fund Transfer (Within ICICI Bank)  \n",
       "29                             Debit card transaction  \n",
       "23                            Local cheque collection  \n",
       "11                                Linked loan payment  \n",
       "27                  Cash withdrawal at other bank ATM  \n",
       "25              Mobile Money Transfer (Insta FT IMPS)  \n",
       "24                                       NEFT Charges  \n",
       "3    National Electronics Funds Transfer System (O...  \n",
       "28                  Cash withdrawal at other bank ATM  \n",
       "5    Online Shopping transaction (Payment done on ...  \n",
       "10                            Personal Accident cover  \n",
       "9                            Pay any Visa credit card  \n",
       "13                                     Pay to Contact  \n",
       "4                                            Recharge  \n",
       "6                                   Smart Money order  \n",
       "26                                     Travel Charges  \n",
       "20                                    Mobile recharge  \n",
       "22                        Upcountry cheque collection  \n",
       "15                  Cash withdrawal at other bank ATM  \n",
       "19                             Debit card transaction  "
      ]
     },
     "execution_count": 38,
     "metadata": {},
     "output_type": "execute_result"
    }
   ],
   "source": [
    "guide = pd.read_excel(file, sheet_name=\"Sheet1\")\n",
    "guide.sort_values(by=\"Legends Used in Account Statement\")"
   ]
  },
  {
   "cell_type": "code",
   "execution_count": null,
   "metadata": {},
   "outputs": [],
   "source": []
  },
  {
   "cell_type": "code",
   "execution_count": 11,
   "metadata": {},
   "outputs": [],
   "source": [
    "naindex = df[df[\"S No.\"].isna()].index"
   ]
  },
  {
   "cell_type": "code",
   "execution_count": 22,
   "metadata": {},
   "outputs": [],
   "source": [
    "filt = df[\"S No.\"].isna()\n",
    "df = df[~filt]"
   ]
  },
  {
   "cell_type": "code",
   "execution_count": 24,
   "metadata": {},
   "outputs": [],
   "source": [
    "df = df.reset_index(drop=True)"
   ]
  },
  {
   "cell_type": "code",
   "execution_count": 30,
   "metadata": {},
   "outputs": [],
   "source": [
    "df = df.drop(\n",
    "    labels = [\"S No.\", \"Cheque Number\"], axis = 1\n",
    ")"
   ]
  },
  {
   "cell_type": "code",
   "execution_count": 40,
   "metadata": {},
   "outputs": [
    {
     "data": {
      "text/plain": [
       "'ATM/SACWH975/CASH WDL/01-01-22                    '"
      ]
     },
     "execution_count": 40,
     "metadata": {},
     "output_type": "execute_result"
    }
   ],
   "source": [
    "import random\n",
    "random.choice(df[\"Transaction Remarks\"])"
   ]
  },
  {
   "cell_type": "code",
   "execution_count": 108,
   "metadata": {},
   "outputs": [
    {
     "data": {
      "text/plain": [
       "{'INF': 2,\n",
       " 'ATM': 4,\n",
       " 'UPI': 6,\n",
       " 'EBA': 3,\n",
       " 'MMT': 6,\n",
       " 'ACH': 3,\n",
       " 'VSI': 5,\n",
       " 'NEF': 1,\n",
       " 'NFS': 4,\n",
       " 'BIL': 4,\n",
       " '055': 1,\n",
       " 'RTG': 1,\n",
       " 'DMC': 2,\n",
       " 'GIB': 4,\n",
       " 'ACC': 1}"
      ]
     },
     "execution_count": 108,
     "metadata": {},
     "output_type": "execute_result"
    }
   ],
   "source": [
    "a = []\n",
    "b = {}\n",
    "for i in df[\"Transaction Remarks\"]:\n",
    "    # if i[:3] == \"DMC\":\n",
    "    #     print(i)\n",
    "    # if len(i.split(\"/\")) in [1,2,3,4,5,6]:\n",
    "    #     # print(i[:3])\n",
    "    #     # a.append(i[:3])\n",
    "    if i[:3] not in b.keys():\n",
    "        b[i[:3]] = len(i.split(\"/\"))\n",
    "\n",
    "b"
   ]
  },
  {
   "cell_type": "code",
   "execution_count": 61,
   "metadata": {},
   "outputs": [
    {
     "data": {
      "text/plain": [
       "['NEF', 'EBA', 'INF', 'DMC']"
      ]
     },
     "execution_count": 61,
     "metadata": {},
     "output_type": "execute_result"
    }
   ],
   "source": [
    "{\n",
    "    # 'NEF': \"National Electronics Funds Transfer\",\n",
    "    # '055': \"Bank Account\",\n",
    "    # 'UPI': \"UPI\",\n",
    "    'VSI': \"Transaction\",\n",
    "    'ATM': \"Cash Withdrawal\",\n",
    "    'ACH': \"Transaction\",\n",
    "    'INF': \"Internal Fund Transfer\",\n",
    "    # 'RTG': \"RTGS\",\n",
    "    'MMT': \"IMPS\",\n",
    "    'NFS': \"Non Bank ATM\",\n",
    "    'BIL': \"Bill Payment\",\n",
    "    # 'ACC': \"Account Closure\",\n",
    "    'EBA': \"Demat Transfer\",\n",
    "    'GIB': \"TAX\",\n",
    "    'DMC': \"Transaction\" \n",
    "}"
   ]
  },
  {
   "cell_type": "code",
   "execution_count": 110,
   "metadata": {},
   "outputs": [
    {
     "name": "stdout",
     "output_type": "stream",
     "text": [
      "NEF\n",
      "055\n",
      "RTG\n",
      "ACC\n"
     ]
    }
   ],
   "source": [
    "for k,v in b.items():\n",
    "    if v == 1:\n",
    "        print(k)\n"
   ]
  },
  {
   "cell_type": "code",
   "execution_count": 125,
   "metadata": {},
   "outputs": [
    {
     "name": "stdout",
     "output_type": "stream",
     "text": [
      "VSI/YOUTUBE CYB/202201171450/201709171427/        \n"
     ]
    }
   ],
   "source": [
    "for i in df[\"Transaction Remarks\"]:\n",
    "    if i[:3] in [\n",
    "        \"VSI\"\n",
    "        ]:\n",
    "        print(i)"
   ]
  },
  {
   "cell_type": "code",
   "execution_count": 119,
   "metadata": {},
   "outputs": [],
   "source": [
    "for i in df[\"Transaction Remarks\"]:\n",
    "    # if i[:3] in [\"055\",\"ACC\",]:\n",
    "    #     print(i)\n",
    "\tif i[:3] == \"055\":\n",
    "\t\ti = i.split(\":\")\n",
    "\t\tout = {\n",
    "\t\t\t\"Who\": \"ICICI Account\",\n",
    "\t\t\t\"Why\": i[1],\n",
    "\t\t\t\"What\": i[2],\n",
    "\t\t\t\"How\": \"Transfer\"\n",
    "\t\t}\n",
    "\telif i[:3] == \"ACC\":\n",
    "\t\tout = {\n",
    "\t\t\t\"Who\": \"ICICI\",\n",
    "\t\t\t\"Why\": \"Account Closure\",\n",
    "\t\t\t\"What\": \"IWISH\",\n",
    "\t\t\t\"How\": \"Transfer\"\n",
    "\t\t}\n",
    "\t\n",
    "\telif i[:3] in [\"NEF\", \"RTG\"]:\n",
    "\t\ti = i.split(\"-\")\n",
    "\t\tout = {\n",
    "\t\t\t\"Who\": i[2],\n",
    "\t\t\t\"Why\": i[3],\n",
    "\t\t\t\"What\": \"Transaction\",\n",
    "\t\t\t\"How\":  i[0] + \" Transfer\"\n",
    "\t\t}\n",
    "\telif i[:3] in [\"UPI\"]:\n",
    "\t\ti = i.split(\"/\")\n",
    "\t\tout = {\n",
    "\t\t\t\"Who\": i[3],\n",
    "\t\t\t\"Why\": i[2],\n",
    "\t\t\t\"What\": i[4],\n",
    "\t\t\t\"How\":  i[0] + \" Transfer\"\n",
    "\t\t}\n",
    "\telif i[:3] in [\"VSI\"]:\n",
    "\t\ti = i.split(\"/\")\n",
    "\t\tout = {\n",
    "\t\t\t\"Who\": i[3],\n",
    "\t\t\t\"Why\": i[2],\n",
    "\t\t\t\"What\": i[4],\n",
    "\t\t\t\"How\":  \"Transfer\"\n",
    "\t\t}\n",
    "\n"
   ]
  },
  {
   "cell_type": "code",
   "execution_count": 126,
   "metadata": {},
   "outputs": [
    {
     "name": "stdout",
     "output_type": "stream",
     "text": [
      "['VSI', 'YOUTUBE CYB', '202201171450', '201709171427', '        ']\n"
     ]
    }
   ],
   "source": [
    "for i in df[\"Transaction Remarks\"]:\n",
    "    if i[:3] in [\n",
    "        \"VSI\"\n",
    "        ]:\n",
    "        print(i.split(\"/\"))"
   ]
  },
  {
   "cell_type": "code",
   "execution_count": null,
   "metadata": {},
   "outputs": [],
   "source": []
  }
 ],
 "metadata": {
  "kernelspec": {
   "display_name": "Python 3",
   "language": "python",
   "name": "python3"
  },
  "language_info": {
   "codemirror_mode": {
    "name": "ipython",
    "version": 3
   },
   "file_extension": ".py",
   "mimetype": "text/x-python",
   "name": "python",
   "nbconvert_exporter": "python",
   "pygments_lexer": "ipython3",
   "version": "3.10.5 (tags/v3.10.5:f377153, Jun  6 2022, 16:14:13) [MSC v.1929 64 bit (AMD64)]"
  },
  "orig_nbformat": 4,
  "vscode": {
   "interpreter": {
    "hash": "4ee441ee8ec832752cdde1c616ebbb04902f410d43df126ddaa7c2c78434d230"
   }
  }
 },
 "nbformat": 4,
 "nbformat_minor": 2
}
